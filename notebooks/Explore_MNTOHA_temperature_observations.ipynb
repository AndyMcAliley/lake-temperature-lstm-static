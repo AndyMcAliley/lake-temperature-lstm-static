{
 "cells": [
  {
   "cell_type": "markdown",
   "id": "466c920d-910d-4f37-b64e-e816209241e7",
   "metadata": {},
   "source": [
    "# MNTOHA temperature data"
   ]
  },
  {
   "cell_type": "code",
   "execution_count": null,
   "id": "c6291b07-e595-4582-818e-0ac21f0e1257",
   "metadata": {},
   "outputs": [],
   "source": [
    "import os\n",
    "import zipfile\n",
    "\n",
    "import numpy as np\n",
    "import pandas as pd\n",
    "import matplotlib.pyplot as plt\n",
    "from matplotlib.colors import LogNorm\n",
    "\n",
    "\n",
    "# This notebook can be opened from the project root or the notebooks folder\n",
    "cwd = os.getcwd()\n",
    "current_folder = os.path.split(cwd)[-1]\n",
    "if current_folder == 'notebooks':\n",
    "    os.chdir('..')\n",
    "elif current_folder == 'lake-temperature-lstm-static':\n",
    "    pass\n",
    "else:\n",
    "    raise FileNotFoundError('Working directory not recognized. Please os.chdir() to project root directory (lake-temperature-lstm-static).')"
   ]
  },
  {
   "cell_type": "markdown",
   "id": "a61b0de8-f536-446d-969d-2f47c143d263",
   "metadata": {
    "tags": []
   },
   "source": [
    "# Download MNTOHA data"
   ]
  },
  {
   "cell_type": "code",
   "execution_count": null,
   "id": "277fbbf9-c9bd-4d80-bc1a-32ebf9e8d1d5",
   "metadata": {},
   "outputs": [],
   "source": [
    "!snakemake --snakefile Snakefile -c1 -p --rerun-incomplete 1_fetch/out/obs_mntoha/temperature_observations.zip 1_fetch/out/metadata_mntoha/lake_metadata.csv"
   ]
  },
  {
   "cell_type": "markdown",
   "id": "6fe7033a-df17-4301-bd8b-1384fad2bc9c",
   "metadata": {},
   "source": [
    "# Read data"
   ]
  },
  {
   "cell_type": "code",
   "execution_count": null,
   "id": "e818f0b7-ab9a-4669-8ef9-ab4e19725492",
   "metadata": {
    "tags": []
   },
   "outputs": [],
   "source": [
    "# Read MNTOHA temperature observations\n",
    "\n",
    "source_dir = '1_fetch/out'\n",
    "destination_dir = '2_process/tmp'\n",
    "obs_zipfile = 'obs_mntoha/temperature_observations.zip'\n",
    "\n",
    "# unzip\n",
    "with zipfile.ZipFile(os.path.join(source_dir, obs_zipfile), 'r') as zf:\n",
    "    zf.extractall(os.path.join(destination_dir, os.path.splitext(obs_zipfile)[0]))\n",
    "\n",
    "# read csv\n",
    "temperature_observations_file = os.path.join(destination_dir, os.path.splitext(obs_zipfile)[0], 'temperature_observations.csv')\n",
    "obs = pd.read_csv(temperature_observations_file)\n",
    "\n",
    "# Read metadata\n",
    "lake_metadata_file = os.path.join(source_dir, 'metadata_mntoha/lake_metadata.csv')\n",
    "lake_metadata = pd.read_csv(lake_metadata_file)"
   ]
  },
  {
   "cell_type": "markdown",
   "id": "cde55eff-8fd3-4bbf-bdda-26ee6567b3e4",
   "metadata": {},
   "source": [
    "# Plot temperature observations in each lake over time"
   ]
  },
  {
   "cell_type": "code",
   "execution_count": null,
   "id": "afdc1375-b95e-4487-ab4e-54a5e1952e08",
   "metadata": {
    "tags": []
   },
   "outputs": [],
   "source": [
    "# View temp plots for one lake at a time\n",
    "# TIP: use CTRL+Enter to rerun this cell multiple times and view lake after lake\n",
    "try:\n",
    "    i_lake += 1\n",
    "    lake = lake_metadata.iloc[i_lake]\n",
    "except:\n",
    "    i_lake = 0\n",
    "    lake = lake_metadata.iloc[i_lake]\n",
    "lake_obs = obs[obs.site_id==lake.site_id].copy()\n",
    "lake_obs[\"time\"] = pd.to_datetime(lake_obs[\"date\"])\n",
    "fig, ax = plt.subplots()\n",
    "ax.set_title(lake.lake_name)\n",
    "p = lake_obs.plot(kind='scatter', x='time', y='depth', c='temp', colormap='viridis', ax=ax)\n",
    "ax.hlines(y=lake.depth, xmin=p.get_xlim()[0], xmax=p.get_xlim()[1], colors='k')\n",
    "ax.invert_yaxis()\n",
    "plt.tight_layout()\n",
    "plt.show()\n",
    "\n",
    "lake"
   ]
  },
  {
   "cell_type": "markdown",
   "id": "f5745f29-7f56-41cc-b82f-b56e71b2f18e",
   "metadata": {},
   "source": [
    "# Explore observations below nominal maximum lake depth"
   ]
  },
  {
   "cell_type": "markdown",
   "id": "5486231d-27df-47bc-a9b1-d461351f9edc",
   "metadata": {},
   "source": [
    "Many of these lakes have temperatures observed deeper than the nominal maximum depth. What's up with that? How many lakes have temperatures below their max depth?"
   ]
  },
  {
   "cell_type": "code",
   "execution_count": null,
   "id": "f3c0cd2a-a26b-4287-8d18-352124ce4a7b",
   "metadata": {
    "tags": []
   },
   "outputs": [],
   "source": [
    "obs_max_depth = (\n",
    "    obs.loc[:, ['site_id', 'depth']]\n",
    "    .groupby('site_id')\n",
    "    .max()\n",
    ")\n",
    "\n",
    "(lake_metadata\n",
    "# .loc[:, ['site_id', 'depth']]\n",
    " .join(obs_max_depth,\n",
    "       how='left',\n",
    "       on='site_id',\n",
    "       rsuffix='_obs')\n",
    " .query('depth_obs>depth')\n",
    ").shape"
   ]
  },
  {
   "cell_type": "markdown",
   "id": "386eaed5-03b0-4877-8b0d-d3385d6ec743",
   "metadata": {},
   "source": [
    "526 out of 881 (877 with temperatures) have obs deeper than max depth! What's the distribution of differences between depth and depth_obs?"
   ]
  },
  {
   "cell_type": "code",
   "execution_count": null,
   "id": "ab062459-5dd8-4bd3-abad-69d7aa933d3b",
   "metadata": {},
   "outputs": [],
   "source": [
    "augmented_metadata = (\n",
    "    lake_metadata\n",
    "     .join(obs\n",
    "           .loc[:, ['site_id', 'depth']]\n",
    "           .groupby('site_id')\n",
    "           .max(),\n",
    "           how='left',\n",
    "           on='site_id',\n",
    "           rsuffix='_obs')\n",
    ")\n",
    "\n",
    "(augmented_metadata.depth - augmented_metadata.depth_obs).hist(bins=500)\n",
    "plt.xlim(-10, 10)\n",
    "plt.show()"
   ]
  },
  {
   "cell_type": "markdown",
   "id": "b61008c2-b002-4ecf-818a-c502c0a1ea6e",
   "metadata": {},
   "source": [
    "Looks 0-centered and heavy-tailed."
   ]
  },
  {
   "cell_type": "markdown",
   "id": "73825cf6-110e-4457-994a-5a01f74ed19b",
   "metadata": {},
   "source": [
    "# Plot number of lakes above data thresholds"
   ]
  },
  {
   "cell_type": "markdown",
   "id": "2b65f55b-c282-469f-91b0-3c5d4be7163a",
   "metadata": {},
   "source": [
    "I wonder:\n",
    "\n",
    "1. How many observation dates per lake\n",
    "2. How many depths per observation date\n",
    "\n",
    "Let's make an image where the color indicates how many lakes meet thresholds of\n",
    "\n",
    "- x axis: # dates\n",
    "- y axis: # depths/date"
   ]
  },
  {
   "cell_type": "code",
   "execution_count": null,
   "id": "50e7fdf1-944c-49e5-ad94-30f61a7bbba9",
   "metadata": {},
   "outputs": [],
   "source": [
    "counts_by_date = (\n",
    "    obs.loc[:, ['site_id', 'date', 'depth']]\n",
    "    .drop_duplicates()\n",
    "    .groupby(['site_id', 'date'])\n",
    "    .count()\n",
    ")\n",
    "\n",
    "min_dates_vals = np.logspace(0,3,31)\n",
    "min_depths_vals = np.arange(1, 30)\n",
    "img_qualifying_lakes = np.zeros((len(min_dates_vals), len(min_depths_vals)))\n",
    "for i_date, min_dates in enumerate(min_dates_vals):\n",
    "    for i_depth, min_depths in enumerate(min_depths_vals):\n",
    "        img_qualifying_lakes[i_date, i_depth] = len(\n",
    "            counts_by_date.query(f'depth>={min_depths}')\n",
    "            .groupby('site_id')\n",
    "            .count()\n",
    "            .query(f'depth>={min_dates}')\n",
    "        )\n",
    "\n",
    "Y, X = np.meshgrid(min_depths_vals, min_dates_vals)\n",
    "font_style = {'font.size': 20}\n",
    "with plt.style.context([font_style]):\n",
    "    fig, ax = plt.subplots(figsize=(9,7))\n",
    "    p = ax.pcolormesh(X, Y, img_qualifying_lakes, norm=LogNorm(vmin=1, vmax=1000))\n",
    "    c = ax.contour(X, Y, img_qualifying_lakes, levels=[10, 20, 50, 100, 200, 500, 800], colors='k')\n",
    "    ax.clabel(c, inline=True, fontsize=14)\n",
    "    ax.set_xscale('log')\n",
    "    cbar = fig.colorbar(p)\n",
    "    ax.set_xlabel('Minimum # observation days')\n",
    "    ax.set_ylabel('Minimum # observation depths')\n",
    "    cbar.ax.set_ylabel('# of lakes that meet thresholds')\n",
    "    ax.set_title('Temperature observation availability \\nin 881 MNTOHA lakes')\n",
    "    plt.show()"
   ]
  },
  {
   "cell_type": "markdown",
   "id": "02139e8c-60fc-49d3-a285-26ca8bda5d04",
   "metadata": {},
   "source": [
    "# Plot occurrence of temperature values"
   ]
  },
  {
   "cell_type": "markdown",
   "id": "94f5bd9d-0e1a-49fc-a400-81aef6a1da47",
   "metadata": {},
   "source": [
    "Which temperature values are most common?"
   ]
  },
  {
   "cell_type": "code",
   "execution_count": null,
   "id": "41bdc19f-1189-4e45-941e-a93bc4b0e4bc",
   "metadata": {},
   "outputs": [],
   "source": [
    "temp_counts = obs.temp.value_counts(normalize=True)\n",
    "fig, ax = plt.subplots(figsize=(9,7))\n",
    "temp_counts.loc[temp_counts > 0.0025].plot(kind='bar')"
   ]
  },
  {
   "cell_type": "markdown",
   "id": "f2faa326-31be-4f44-bec4-f0dd5bbe51b0",
   "metadata": {},
   "source": [
    "Round numbers greater than 4&deg;C are most common, then values rounded to the nearest 0.5&deg;C. It's reassuring to see that 0&deg;C isn't too high in the list. It's interesting that 5&deg;C is secondmost common. Maybe lake turnover times are popular times to measure temperatures?"
   ]
  },
  {
   "cell_type": "code",
   "execution_count": null,
   "id": "3d11b79e-16cf-4745-94a7-20a65ba21c7b",
   "metadata": {},
   "outputs": [],
   "source": []
  }
 ],
 "metadata": {
  "kernelspec": {
   "display_name": "Python [conda env:ltls]",
   "language": "python",
   "name": "conda-env-ltls-py"
  },
  "language_info": {
   "codemirror_mode": {
    "name": "ipython",
    "version": 3
   },
   "file_extension": ".py",
   "mimetype": "text/x-python",
   "name": "python",
   "nbconvert_exporter": "python",
   "pygments_lexer": "ipython3",
   "version": "3.9.9"
  }
 },
 "nbformat": 4,
 "nbformat_minor": 5
}
